{
 "cells": [
  {
   "cell_type": "code",
   "execution_count": 1,
   "metadata": {},
   "outputs": [],
   "source": [
    "import numpy as np\n",
    "import pandas as pd\n",
    "import sklearn as sk\n",
    "import matplotlib.pyplot as plt\n",
    "import doctest\n",
    "import implicit\n",
    "import sklearn\n",
    "from sklearn.model_selection import train_test_split\n",
    "import scipy\n",
    "from scipy.sparse import csr_matrix\n",
    "import pandas as pd\n",
    "from gensim import models\n",
    "from gensim import similarities\n",
    "from gensim.models import Word2Vec"
   ]
  },
  {
   "cell_type": "code",
   "execution_count": 2,
   "metadata": {},
   "outputs": [],
   "source": [
    "MOCK = True"
   ]
  },
  {
   "cell_type": "code",
   "execution_count": 3,
   "metadata": {},
   "outputs": [],
   "source": [
    "if MOCK:\n",
    "    pd_data = pd.read_csv(\"./data/ratings_mock.csv\")\n",
    "else:\n",
    "    pd_data = pd.read_csv(\"./data/ratings.csv\")"
   ]
  },
  {
   "cell_type": "code",
   "execution_count": 4,
   "metadata": {},
   "outputs": [],
   "source": [
    "data = pd_data"
   ]
  },
  {
   "cell_type": "markdown",
   "metadata": {},
   "source": [
    "# Data"
   ]
  },
  {
   "cell_type": "markdown",
   "metadata": {},
   "source": [
    "matrix.data < 4 используются для того, чтобы превратить данные из явных в неявные."
   ]
  },
  {
   "cell_type": "code",
   "execution_count": 5,
   "metadata": {},
   "outputs": [],
   "source": [
    "def to_sparce_matrix(pd_data):\n",
    "    '''\n",
    "    >>> to_sparce_matrix(pd.DataFrame({'rating': [3,5], 'userId' : [1, 2], 'movieId': [1, 2]})).toarray()\n",
    "    array([[0., 0., 0.],\n",
    "           [0., 0., 0.],\n",
    "           [0., 0., 1.]])\n",
    "    '''\n",
    "    matrix = csr_matrix((pd_data['rating'].values, (pd_data['userId'].values, pd_data['movieId'].values)))\n",
    "    matrix.data[matrix.data < 4] = 0\n",
    "    matrix.eliminate_zeros()\n",
    "    matrix.data = np.ones(len(matrix.data))\n",
    "    return matrix"
   ]
  },
  {
   "cell_type": "markdown",
   "metadata": {},
   "source": [
    "# Init"
   ]
  },
  {
   "cell_type": "code",
   "execution_count": 6,
   "metadata": {},
   "outputs": [],
   "source": [
    "k = 2\n",
    "LAMBDA = 0.001\n",
    "ALPHA = 0.001\n",
    "COEF_FOR_OPTIMIZATION = 0.1\n",
    "NUM_OF_NEAREST = 5"
   ]
  },
  {
   "cell_type": "code",
   "execution_count": 7,
   "metadata": {},
   "outputs": [],
   "source": [
    "p = None\n",
    "q = None\n",
    "b_u = None\n",
    "b_i = None\n",
    "r = None"
   ]
  },
  {
   "cell_type": "code",
   "execution_count": 8,
   "metadata": {},
   "outputs": [],
   "source": [
    "def init():\n",
    "    global p, q, b_u, b_i, r, U, I\n",
    "    r = to_sparce_matrix(data)\n",
    "    U, I = r.shape\n",
    "    p = [np.random.rand(k) for u in range(U)]\n",
    "    q = [np.random.rand(k) for i in range(I)]\n",
    "    b_u = np.random.rand(U)\n",
    "    b_i = np.random.rand(I)"
   ]
  },
  {
   "cell_type": "code",
   "execution_count": 9,
   "metadata": {},
   "outputs": [],
   "source": [
    "init()"
   ]
  },
  {
   "cell_type": "markdown",
   "metadata": {},
   "source": [
    "# Similarity"
   ]
  },
  {
   "cell_type": "markdown",
   "metadata": {},
   "source": [
    "## Global model"
   ]
  },
  {
   "cell_type": "code",
   "execution_count": 10,
   "metadata": {},
   "outputs": [],
   "source": [
    "def get_corpus():\n",
    "    # MOCK\n",
    "    # ['1', '2']\n",
    "    # ['2', '3']\n",
    "    corpus = [[str(i)] for i in range(I)]\n",
    "    for u in range(U):\n",
    "        frist, second = r[u].nonzero()\n",
    "        corpus.append(list(map(str, second)))\n",
    "    return corpus"
   ]
  },
  {
   "cell_type": "code",
   "execution_count": 11,
   "metadata": {},
   "outputs": [],
   "source": [
    "corpus = get_corpus()"
   ]
  },
  {
   "cell_type": "code",
   "execution_count": 12,
   "metadata": {},
   "outputs": [],
   "source": [
    "model_word2vec = Word2Vec(sentences=corpus, size=100, window=5, min_count=1, workers=4)\n",
    "word_vec = model_word2vec.wv"
   ]
  },
  {
   "cell_type": "code",
   "execution_count": 13,
   "metadata": {},
   "outputs": [],
   "source": [
    "def s(i, j):\n",
    "    '''\n",
    "        # MOCK return 0\n",
    "    '''\n",
    "    return word_vec.similarity(str(i), str(j))"
   ]
  },
  {
   "cell_type": "code",
   "execution_count": 14,
   "metadata": {},
   "outputs": [],
   "source": [
    "def get_k_nearest(index):\n",
    "    '''\n",
    "    '''\n",
    "    #   MOCK return [index] * NUM_OF_NEAREST\n",
    "    result = list(map(lambda x: int(x[0]), word_vec.most_similar(str(index))[:NUM_OF_NEAREST]))\n",
    "    return result"
   ]
  },
  {
   "cell_type": "markdown",
   "metadata": {},
   "source": [
    "# Algo"
   ]
  },
  {
   "cell_type": "code",
   "execution_count": 15,
   "metadata": {},
   "outputs": [],
   "source": [
    "def dot_product(x):\n",
    "    return np.dot(x, x.T)"
   ]
  },
  {
   "cell_type": "code",
   "execution_count": 16,
   "metadata": {},
   "outputs": [],
   "source": [
    "def all_dot_product(x):\n",
    "    return sum(dot_product(e) for e in x)"
   ]
  },
  {
   "cell_type": "code",
   "execution_count": 17,
   "metadata": {},
   "outputs": [],
   "source": [
    "def r_(u, i):\n",
    "    return np.dot(p[u], q[i].T)"
   ]
  },
  {
   "cell_type": "code",
   "execution_count": 18,
   "metadata": {},
   "outputs": [],
   "source": [
    "def first_sum():\n",
    "    value_from_r = 0\n",
    "    for u in range(U):\n",
    "        for i in range(I):\n",
    "            value_from_r += (r[u,i] - r_(u, i)) ** 2\n",
    "\n",
    "    return value_from_r"
   ]
  },
  {
   "cell_type": "code",
   "execution_count": 19,
   "metadata": {},
   "outputs": [],
   "source": [
    "def second_sum(): \n",
    "    value = 0\n",
    "    for i in range(I):\n",
    "        for j in get_k_nearest(i):\n",
    "            value += (s(i, j) - np.dot(q[i], q[j].T)) ** 2\n",
    "    return value"
   ]
  },
  {
   "cell_type": "code",
   "execution_count": 20,
   "metadata": {},
   "outputs": [],
   "source": [
    "def omega():\n",
    "    return all_dot_product(p) + all_dot_product(q) + \\\n",
    "           dot_product(b_u) + dot_product(b_i)"
   ]
  },
  {
   "cell_type": "code",
   "execution_count": 21,
   "metadata": {},
   "outputs": [],
   "source": [
    "def function():\n",
    "    return 0.5 * first_sum() + \\\n",
    "           ALPHA * 0.5 * second_sum() + \\\n",
    "           LAMBDA * 0.5 * omega()"
   ]
  },
  {
   "cell_type": "code",
   "execution_count": 22,
   "metadata": {},
   "outputs": [],
   "source": [
    "def dfdp(): \n",
    "    list_dp = list()\n",
    "    for u in range(U):\n",
    "        first = sum((r_(u, i) - r[u, i]) * q[i] for i in range(I))\n",
    "        second = LAMBDA * p[u]\n",
    "        list_dp.append(first + second)\n",
    "    return list_dp"
   ]
  },
  {
   "cell_type": "code",
   "execution_count": 23,
   "metadata": {},
   "outputs": [],
   "source": [
    "def dfdq():\n",
    "    list_dq = list()\n",
    "    for i in range(I):\n",
    "        first = sum((r_(u, i) - r[u, i]) * p[u] for u in range(U))\n",
    "        second = -ALPHA * \\\n",
    "                 sum((s(i, j) - np.dot(q[i], q[j].T) + LAMBDA) * q[j] \\\n",
    "                     for j in get_k_nearest(i))\n",
    "            \n",
    "        list_dq.append(first + second)\n",
    "    return list_dq"
   ]
  },
  {
   "cell_type": "code",
   "execution_count": null,
   "metadata": {},
   "outputs": [],
   "source": [
    "def dfdb_u():\n",
    "    delta = 0\n",
    "    for u in range(U):\n",
    "        for i in range(I):\n",
    "            delta += r_(u, i) - r[u, i]\n",
    "    return delta + LAMBDA * b_u"
   ]
  },
  {
   "cell_type": "code",
   "execution_count": null,
   "metadata": {},
   "outputs": [],
   "source": [
    "def dfdb_i():\n",
    "    delta = 0\n",
    "    for u in range(U):\n",
    "        for i in range(I):\n",
    "            delta += r_(u, i) - r[u, i]\n",
    "    return delta + LAMBDA * b_i"
   ]
  },
  {
   "cell_type": "code",
   "execution_count": null,
   "metadata": {},
   "outputs": [],
   "source": [
    "def optimize_u():\n",
    "    _dfdp = dfdp()\n",
    "    _dfdb_u = dfdb_u()\n",
    "    for u in range(U):\n",
    "        p[u] -= _dfdp[u] * COEF_FOR_OPTIMIZATION\n",
    "        b_u[u] -= _dfdb_u[u] * COEF_FOR_OPTIMIZATION"
   ]
  },
  {
   "cell_type": "code",
   "execution_count": null,
   "metadata": {},
   "outputs": [],
   "source": [
    "def optimize_i():\n",
    "    _dfdq = dfdq()\n",
    "    _dfdb_i = dfdb_i()\n",
    "    for i in range(I):\n",
    "        q[i] -= _dfdq[i] * COEF_FOR_OPTIMIZATION\n",
    "        b_i[i] -= _dfdb_i[i] * COEF_FOR_OPTIMIZATION"
   ]
  },
  {
   "cell_type": "code",
   "execution_count": null,
   "metadata": {},
   "outputs": [],
   "source": [
    "def optimize():  \n",
    "    optimize_u()\n",
    "    optimize_i()"
   ]
  },
  {
   "cell_type": "markdown",
   "metadata": {},
   "source": [
    "# Start"
   ]
  },
  {
   "cell_type": "code",
   "execution_count": null,
   "metadata": {},
   "outputs": [
    {
     "name": "stdout",
     "output_type": "stream",
     "text": [
      "step: 0, value: 50199.93823200982\n",
      "step: 1, value: 2.581519638777576e+26\n"
     ]
    }
   ],
   "source": [
    "for step in range(50):\n",
    "    value = function()\n",
    "    print(\"step: {}, value: {}\".format(step, value))\n",
    "    optimize()  "
   ]
  },
  {
   "cell_type": "code",
   "execution_count": null,
   "metadata": {},
   "outputs": [],
   "source": []
  }
 ],
 "metadata": {
  "kernelspec": {
   "display_name": "Python 3",
   "language": "python",
   "name": "python3"
  },
  "language_info": {
   "codemirror_mode": {
    "name": "ipython",
    "version": 3
   },
   "file_extension": ".py",
   "mimetype": "text/x-python",
   "name": "python",
   "nbconvert_exporter": "python",
   "pygments_lexer": "ipython3",
   "version": "3.7.3"
  }
 },
 "nbformat": 4,
 "nbformat_minor": 2
}
